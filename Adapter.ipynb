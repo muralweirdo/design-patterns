{
 "cells": [
  {
   "cell_type": "markdown",
   "metadata": {},
   "source": [
    "# Adapter Pattern"
   ]
  },
  {
   "cell_type": "code",
   "execution_count": 6,
   "metadata": {},
   "outputs": [],
   "source": [
    "class EnglishSpeaker:\n",
    "    \n",
    "        def responseToGreeting(self):\n",
    "                return \"Hello to you too!\"\n",
    "            \n",
    "        def responseToFarewell(self):\n",
    "                return \"Goodbye my friend.\""
   ]
  },
  {
   "cell_type": "code",
   "execution_count": 7,
   "metadata": {},
   "outputs": [],
   "source": [
    "class Translator:   # we can make this general too\n",
    "    \n",
    "    def __init__(self, englishSpeaker):\n",
    "        self._englishSpeaker = englishSpeaker\n",
    "    \n",
    "    _englishToFrenchPhrases = {\n",
    "        \"Hello to you too!\": \"Bonjour à vous aussi\",\n",
    "        \"Goodbye my friend.\": \"Au revoir mon ami\"\n",
    "    }  "
   ]
  },
  {
   "cell_type": "code",
   "execution_count": 8,
   "metadata": {},
   "outputs": [],
   "source": [
    "class FrenchSpeaker:\n",
    "    \n",
    "    def __init__(self, englishToFrenchTranslator):\n",
    "        self._englishToFrenchTranslator = englishToFrenchTranslator\n",
    " \n",
    "    def exchangeGreetings(self):\n",
    "        print(\"Salut!\")\n",
    "        print( self._englishToFrenchTranslator._englishToFrenchPhrases[  self._englishToFrenchTranslator._englishSpeaker.responseToGreeting()  ] )\n",
    " \n",
    "    def exchangeFarewell(self):\n",
    "        print(\"Au revoir!\")\n",
    "        print( self._englishToFrenchTranslator._englishToFrenchPhrases[  self._englishToFrenchTranslator._englishSpeaker.responseToFarewell()  ] )\n",
    " "
   ]
  },
  {
   "cell_type": "code",
   "execution_count": 9,
   "metadata": {},
   "outputs": [
    {
     "name": "stdout",
     "output_type": "stream",
     "text": [
      "Salut!\n",
      "Bonjour à vous aussi\n",
      "Au revoir!\n",
      "Au revoir mon ami\n"
     ]
    }
   ],
   "source": [
    "englishSpeaker = EnglishSpeaker()\n",
    " \n",
    "englishToFrenchTranslator = Translator(englishSpeaker)  #we can make this general for all langs\n",
    " \n",
    "frenchSpeaker = FrenchSpeaker(englishToFrenchTranslator)\n",
    " \n",
    "frenchSpeaker.exchangeGreetings()\n",
    "frenchSpeaker.exchangeFarewell()"
   ]
  },
  {
   "cell_type": "code",
   "execution_count": null,
   "metadata": {},
   "outputs": [],
   "source": []
  }
 ],
 "metadata": {
  "kernelspec": {
   "display_name": "Python 3",
   "language": "python",
   "name": "python3"
  },
  "language_info": {
   "codemirror_mode": {
    "name": "ipython",
    "version": 3
   },
   "file_extension": ".py",
   "mimetype": "text/x-python",
   "name": "python",
   "nbconvert_exporter": "python",
   "pygments_lexer": "ipython3",
   "version": "3.7.3"
  }
 },
 "nbformat": 4,
 "nbformat_minor": 2
}
