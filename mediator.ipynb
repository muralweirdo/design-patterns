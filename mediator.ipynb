{
 "cells": [
  {
   "cell_type": "markdown",
   "metadata": {
    "slideshow": {
     "slide_type": "slide"
    }
   },
   "source": [
    "# Mediator Pattern"
   ]
  },
  {
   "cell_type": "code",
   "execution_count": 1,
   "metadata": {
    "slideshow": {
     "slide_type": "slide"
    }
   },
   "outputs": [],
   "source": [
    "class ChatRoom:      #Mediator class.\n",
    "    \n",
    "    def displayMessage(self, user, message):\n",
    "        print(\"[{} says]: {}\".format(user, message))"
   ]
  },
  {
   "cell_type": "code",
   "execution_count": 2,
   "metadata": {
    "slideshow": {
     "slide_type": "slide"
    }
   },
   "outputs": [],
   "source": [
    "class User:          #A class whose instances want to interact with each other.\n",
    "    \n",
    "    def __init__(self, name):\n",
    "        self.name = name\n",
    "        self.chatRoom = ChatRoom()\n",
    " \n",
    "    def sendMessage(self, message):\n",
    "        self.chatRoom.displayMessage(self, message)\n",
    " \n",
    "    def __str__(self):\n",
    "        return self.name"
   ]
  },
  {
   "cell_type": "code",
   "execution_count": 3,
   "metadata": {
    "slideshow": {
     "slide_type": "slide"
    }
   },
   "outputs": [],
   "source": [
    "u1 = User('PTI')\n",
    "u2 = User('PMLN')\n",
    "u3 = User('Fast')"
   ]
  },
  {
   "cell_type": "code",
   "execution_count": 4,
   "metadata": {
    "slideshow": {
     "slide_type": "fragment"
    }
   },
   "outputs": [
    {
     "name": "stdout",
     "output_type": "stream",
     "text": [
      "[PTI says]: Tabdeeli aa gayi hai.\n",
      "[PMLN says]: Jail.Jail.Jail.\n",
      "[Fast says]: Cafe mein not allowed.\n"
     ]
    }
   ],
   "source": [
    "u1.sendMessage(\"Tabdeeli aa gayi hai.\")\n",
    "u2.sendMessage(\"Jail.Jail.Jail.\")\n",
    "u3.sendMessage(\"Cafe mein not allowed.\")"
   ]
  }
 ],
 "metadata": {
  "celltoolbar": "Slideshow",
  "kernelspec": {
   "display_name": "Python 3",
   "language": "python",
   "name": "python3"
  },
  "language_info": {
   "codemirror_mode": {
    "name": "ipython",
    "version": 3
   },
   "file_extension": ".py",
   "mimetype": "text/x-python",
   "name": "python",
   "nbconvert_exporter": "python",
   "pygments_lexer": "ipython3",
   "version": "3.7.3"
  }
 },
 "nbformat": 4,
 "nbformat_minor": 2
}
